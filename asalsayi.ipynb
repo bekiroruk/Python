{
 "cells": [
  {
   "cell_type": "code",
   "execution_count": null,
   "id": "d0bc8d53",
   "metadata": {},
   "outputs": [
    {
     "name": "stdout",
     "output_type": "stream",
     "text": [
      "Sayıyı giriniz: 1\n",
      "1 asal sayı değildir\n",
      "Sayıyı giriniz: 2\n",
      "2 asal sayıdır.\n",
      "Sayıyı giriniz: 3\n",
      "3 asal sayıdır.\n",
      "Sayıyı giriniz: 4\n",
      "4 asal sayı değildir\n",
      "Sayıyı giriniz: 5\n",
      "5 asal sayıdır.\n",
      "Sayıyı giriniz: 6\n",
      "6 asal sayı değildir\n"
     ]
    }
   ],
   "source": [
    "def asal(sayi):\n",
    "    if(sayi == 1):\n",
    "            return False\n",
    "    elif(sayi==2):\n",
    "        return True\n",
    "    else:\n",
    "        for i in range(2,sayi):\n",
    "            if(sayi%i == 0):\n",
    "                return False\n",
    "            return True\n",
    "        \n",
    "\n",
    "\n",
    "while True:\n",
    "    sayi = input(\"Sayıyı giriniz: \")\n",
    "    \n",
    "    if(sayi == \"q\"):\n",
    "        break\n",
    "    else:\n",
    "        sayi = int(sayi)\n",
    "        \n",
    "        if(asal(sayi)):\n",
    "            print(sayi,\"asal sayıdır.\")\n",
    "        else:\n",
    "            print(sayi,\"asal sayı değildir\")"
   ]
  },
  {
   "cell_type": "code",
   "execution_count": null,
   "id": "7d08cb7f",
   "metadata": {},
   "outputs": [],
   "source": []
  }
 ],
 "metadata": {
  "kernelspec": {
   "display_name": "Python 3 (ipykernel)",
   "language": "python",
   "name": "python3"
  },
  "language_info": {
   "codemirror_mode": {
    "name": "ipython",
    "version": 3
   },
   "file_extension": ".py",
   "mimetype": "text/x-python",
   "name": "python",
   "nbconvert_exporter": "python",
   "pygments_lexer": "ipython3",
   "version": "3.9.7"
  }
 },
 "nbformat": 4,
 "nbformat_minor": 5
}
